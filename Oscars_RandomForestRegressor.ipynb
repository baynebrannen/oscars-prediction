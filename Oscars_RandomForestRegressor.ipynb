{
 "cells": [
  {
   "cell_type": "code",
   "execution_count": 1,
   "metadata": {},
   "outputs": [],
   "source": [
    "import pandas as pd\n",
    "import numpy as np\n",
    "import sklearn as sk\n",
    "import string\n",
    "import omdb\n",
    "from omdb import OMDBClient\n",
    "from bs4 import BeautifulSoup\n",
    "from sklearn.ensemble import RandomForestRegressor\n",
    "from sklearn.model_selection import train_test_split\n",
    "from sklearn.preprocessing import OrdinalEncoder, OneHotEncoder\n",
    "from sklearn.metrics import r2_score,mean_squared_error"
   ]
  },
  {
   "cell_type": "code",
   "execution_count": 2,
   "metadata": {},
   "outputs": [],
   "source": [
    "client = omdb.OMDBClient(apikey='9b6f6a00')"
   ]
  },
  {
   "cell_type": "markdown",
   "metadata": {},
   "source": [
    "First I import the IMDB dataset that I downloaded here: https://www.kaggle.com/stefanoleone992/imdb-extensive-dataset?select=IMDb+movies.csv\n",
    "\n",
    "Thank you stefanoleone992!"
   ]
  },
  {
   "cell_type": "code",
   "execution_count": 3,
   "metadata": {},
   "outputs": [
    {
     "name": "stderr",
     "output_type": "stream",
     "text": [
      "C:\\Users\\bayne\\anaconda3\\lib\\site-packages\\IPython\\core\\interactiveshell.py:3063: DtypeWarning: Columns (3) have mixed types.Specify dtype option on import or set low_memory=False.\n",
      "  interactivity=interactivity, compiler=compiler, result=result)\n"
     ]
    }
   ],
   "source": [
    "movies = pd.read_csv(\"IMDB movies.csv\")"
   ]
  },
  {
   "cell_type": "markdown",
   "metadata": {},
   "source": [
    "As you can see here, the dataset consists of over 85,000 movies and has a variety of data on each one; including language, genres, directors, actors, and more. You may notice, however, there is a rather important piece of data missing--whether or not each film won an oscar. This gives me the opportunity to scrape that data myself. "
   ]
  },
  {
   "cell_type": "code",
   "execution_count": 4,
   "metadata": {},
   "outputs": [
    {
     "data": {
      "text/plain": [
       "(85855, 22)"
      ]
     },
     "execution_count": 4,
     "metadata": {},
     "output_type": "execute_result"
    }
   ],
   "source": [
    "movies.shape"
   ]
  },
  {
   "cell_type": "markdown",
   "metadata": {},
   "source": [
    "To append the award data to this dataset, I am going to use the omdb API. Essentially, it's an unofficial IMDB api, but it works well. Since I have the IMDB id for each film, I will simply query the website with the id, and grab the \"award\" field of the data. I will clean it up later with regular expressions, but it will tell me how many Oscars each film has won once I do that."
   ]
  },
  {
   "cell_type": "code",
   "execution_count": 5,
   "metadata": {
    "scrolled": true
   },
   "outputs": [],
   "source": [
    "def getAward(imdbId):\n",
    "    try:\n",
    "        return client.imdbid(imdbId)[\"awards\"]\n",
    "    except:\n",
    "        return \"Not found\""
   ]
  },
  {
   "cell_type": "code",
   "execution_count": 6,
   "metadata": {},
   "outputs": [],
   "source": [
    "movies[\"awards\"] = movies.iloc[:,0].apply(lambda x : getAward(x))"
   ]
  },
  {
   "cell_type": "markdown",
   "metadata": {},
   "source": [
    "I would like to build a random forest regression to predict how many oscars a given film will win based on a variety of factors that I think could be good indicators of an award-winning movie. Genre and language are both aspects that I think would be important in this prediction. In fact, Parasite was the very first non-English film to win an Oscar for best picture.\n",
    "\n",
    "However, the data--as it stands--is not properly formatted. Genre and language both currently exist as lists for each film. I am going to use binary encoding to give the regression model a way to quantify this categorical data.\n",
    "\n",
    "First, I am going to use the strip function to remove the white space on either side of the languages and genres. "
   ]
  },
  {
   "cell_type": "code",
   "execution_count": 7,
   "metadata": {},
   "outputs": [],
   "source": [
    "cleaned_genre = movies.set_index(['imdb_title_id'])[\"genre\"].str.split(',',expand=True).stack()"
   ]
  },
  {
   "cell_type": "code",
   "execution_count": 8,
   "metadata": {},
   "outputs": [],
   "source": [
    "cleaned_lang = movies.set_index(['imdb_title_id'])[\"language\"].str.split(',',expand=True).stack()"
   ]
  },
  {
   "cell_type": "code",
   "execution_count": 9,
   "metadata": {},
   "outputs": [],
   "source": [
    "cleaned_lang = cleaned_lang.apply(lambda x : x.strip())"
   ]
  },
  {
   "cell_type": "code",
   "execution_count": 10,
   "metadata": {},
   "outputs": [],
   "source": [
    "cleaned_genre = cleaned_genre.apply(lambda x : x.strip())"
   ]
  },
  {
   "cell_type": "markdown",
   "metadata": {},
   "source": [
    "Now I will actually begin the binary encoding process, using the get_dummies function to turn these lists into categorical data. This creates a new dataframe just containing each film by its id and binary indications of whether or not it is in a certain language."
   ]
  },
  {
   "cell_type": "code",
   "execution_count": 11,
   "metadata": {},
   "outputs": [],
   "source": [
    "lang_encoded = pd.get_dummies(cleaned_lang, prefix='l').groupby(level=0).sum().reset_index()"
   ]
  },
  {
   "cell_type": "markdown",
   "metadata": {},
   "source": [
    "Now I will merge the encoded languages for each movie onto the original movie dataframe."
   ]
  },
  {
   "cell_type": "code",
   "execution_count": 12,
   "metadata": {},
   "outputs": [],
   "source": [
    "movies = movies.merge(lang_encoded, left_on=[\"imdb_title_id\"], right_on=[\"imdb_title_id\"])"
   ]
  },
  {
   "cell_type": "markdown",
   "metadata": {},
   "source": [
    "I will repeat this same process in order to binary encode the genre values."
   ]
  },
  {
   "cell_type": "code",
   "execution_count": 13,
   "metadata": {},
   "outputs": [],
   "source": [
    "genre_encoded = pd.get_dummies(cleaned_genre, prefix='g').groupby(level=0).sum().reset_index()"
   ]
  },
  {
   "cell_type": "code",
   "execution_count": 14,
   "metadata": {},
   "outputs": [],
   "source": [
    "movies = movies.merge(genre_encoded, left_on=[\"imdb_title_id\"], right_on=[\"imdb_title_id\"])"
   ]
  },
  {
   "cell_type": "markdown",
   "metadata": {},
   "source": [
    "Now I will take a look at the awards column. The simple webscraper I executed just pulled all of the awards that each film won, usually in sentence structure format (e.g. \"Won 2 Oscars. Another 112 wins & 103 nominations.\") Rather than slow down the webscraper by extracting the number of Oscars as it went, I opted to wait until now to use a regular expression to extract the number representing how many Oscars the film won. I put this in separate column \"oscars_won\"\n",
    "\n",
    "Obviously this will yield NaN values for any films that did not contain the regular expression (and thus did not win Oscars), so I will go ahead and fill those NaN values with 0."
   ]
  },
  {
   "cell_type": "code",
   "execution_count": 15,
   "metadata": {},
   "outputs": [],
   "source": [
    "movies[\"oscars_won\"] = movies[movies[\"awards\"].str.contains(r'Won [1-9]* Oscar', regex=True)][\"awards\"].str.extract('(\\d+)')"
   ]
  },
  {
   "cell_type": "code",
   "execution_count": 16,
   "metadata": {},
   "outputs": [],
   "source": [
    "movies[\"oscars_won\"] = movies[\"oscars_won\"].fillna(0)"
   ]
  },
  {
   "cell_type": "markdown",
   "metadata": {},
   "source": [
    "Since I was working with strings, the numbers from the regular expression extraction would also be strings, so I convert those to integers here."
   ]
  },
  {
   "cell_type": "code",
   "execution_count": 17,
   "metadata": {},
   "outputs": [],
   "source": [
    "movies[\"oscars_won\"] = movies[\"oscars_won\"].astype(int)"
   ]
  },
  {
   "cell_type": "markdown",
   "metadata": {},
   "source": [
    "And then I go ahead and drop the original \"awards\" column because I have extracted the data I need from it and it will serve no purpose."
   ]
  },
  {
   "cell_type": "code",
   "execution_count": 18,
   "metadata": {},
   "outputs": [],
   "source": [
    "movies = movies.drop(\"awards\", axis =1)"
   ]
  },
  {
   "cell_type": "markdown",
   "metadata": {},
   "source": [
    "There is one movie that is oddly labeled with \"TV Movie 2019\" rather than an actual date published. Not only will this interfere with the conversion of dates to datetime objects, I'm also not particularly interested in having a TV movie mixed in with this dataset. So I will go ahead and just drop that row."
   ]
  },
  {
   "cell_type": "code",
   "execution_count": 19,
   "metadata": {},
   "outputs": [],
   "source": [
    "tvMovieIndex = movies[movies[\"date_published\"]==\"TV Movie 2019\"].index"
   ]
  },
  {
   "cell_type": "code",
   "execution_count": 23,
   "metadata": {
    "scrolled": true
   },
   "outputs": [],
   "source": [
    "movies = movies.drop([tvMovieIndex[0], tvMovieIndex[0]])"
   ]
  },
  {
   "cell_type": "markdown",
   "metadata": {},
   "source": [
    "Now I will convert the date published column--currently a string--to datetime objects. I would also like to use the month a movie came out rather than the date in order to categorize the films more neatly, so I will create a \"months_published\" column from the converted \"date_published\" column."
   ]
  },
  {
   "cell_type": "code",
   "execution_count": 24,
   "metadata": {},
   "outputs": [],
   "source": [
    "movies[\"date_published\"] = pd.to_datetime(movies[\"date_published\"])"
   ]
  },
  {
   "cell_type": "code",
   "execution_count": 25,
   "metadata": {},
   "outputs": [],
   "source": [
    "movies[\"month_published\"] = movies[\"date_published\"].dt.month"
   ]
  },
  {
   "cell_type": "code",
   "execution_count": null,
   "metadata": {},
   "outputs": [],
   "source": []
  },
  {
   "cell_type": "code",
   "execution_count": 26,
   "metadata": {},
   "outputs": [],
   "source": [
    "movies[\"country\"] = movies[\"country\"].fillna('None')"
   ]
  },
  {
   "cell_type": "code",
   "execution_count": 27,
   "metadata": {},
   "outputs": [],
   "source": [
    "movies[\"director\"] = movies[\"director\"].astype('category')"
   ]
  },
  {
   "cell_type": "code",
   "execution_count": 28,
   "metadata": {},
   "outputs": [],
   "source": [
    "movies[\"director_cat\"] = movies[\"director\"].cat.codes"
   ]
  },
  {
   "cell_type": "code",
   "execution_count": 29,
   "metadata": {},
   "outputs": [],
   "source": [
    "movies[\"American\"] = movies[\"country\"].str.contains(\"USA\")"
   ]
  },
  {
   "cell_type": "code",
   "execution_count": 30,
   "metadata": {},
   "outputs": [],
   "source": [
    "movies[\"American\"] = movies[\"American\"].fillna(0)"
   ]
  },
  {
   "cell_type": "code",
   "execution_count": 31,
   "metadata": {},
   "outputs": [],
   "source": [
    "factors = [\"duration\", 'g_Action', 'g_Adult',\n",
    "       'g_Adventure', 'g_Animation', 'g_Biography', 'g_Comedy', 'g_Crime',\n",
    "       'g_Documentary', 'g_Drama', 'g_Family', 'g_Fantasy', 'g_Film-Noir',\n",
    "       'g_History', 'g_Horror', 'g_Music', 'g_Musical', 'g_Mystery', 'g_News',\n",
    "       'g_Reality-TV', 'g_Romance', 'g_Sci-Fi', 'g_Sport', 'g_Thriller',\n",
    "       'g_War', 'g_Western', 'month_published'] + movies.columns[22:].tolist()"
   ]
  },
  {
   "cell_type": "markdown",
   "metadata": {},
   "source": [
    "Below I will reset the index in order to prevent any errors"
   ]
  },
  {
   "cell_type": "code",
   "execution_count": 43,
   "metadata": {},
   "outputs": [
    {
     "data": {
      "text/html": [
       "<div>\n",
       "<style scoped>\n",
       "    .dataframe tbody tr th:only-of-type {\n",
       "        vertical-align: middle;\n",
       "    }\n",
       "\n",
       "    .dataframe tbody tr th {\n",
       "        vertical-align: top;\n",
       "    }\n",
       "\n",
       "    .dataframe thead th {\n",
       "        text-align: right;\n",
       "    }\n",
       "</style>\n",
       "<table border=\"1\" class=\"dataframe\">\n",
       "  <thead>\n",
       "    <tr style=\"text-align: right;\">\n",
       "      <th></th>\n",
       "      <th>imdb_title_id</th>\n",
       "      <th>title</th>\n",
       "      <th>original_title</th>\n",
       "      <th>year</th>\n",
       "      <th>date_published</th>\n",
       "      <th>genre</th>\n",
       "      <th>duration</th>\n",
       "      <th>country</th>\n",
       "      <th>language</th>\n",
       "      <th>director</th>\n",
       "      <th>...</th>\n",
       "      <th>g_Romance</th>\n",
       "      <th>g_Sci-Fi</th>\n",
       "      <th>g_Sport</th>\n",
       "      <th>g_Thriller</th>\n",
       "      <th>g_War</th>\n",
       "      <th>g_Western</th>\n",
       "      <th>oscars_won</th>\n",
       "      <th>month_published</th>\n",
       "      <th>director_cat</th>\n",
       "      <th>American</th>\n",
       "    </tr>\n",
       "  </thead>\n",
       "  <tbody>\n",
       "    <tr>\n",
       "      <th>0</th>\n",
       "      <td>tt0000009</td>\n",
       "      <td>Miss Jerry</td>\n",
       "      <td>Miss Jerry</td>\n",
       "      <td>1894</td>\n",
       "      <td>1894-10-09</td>\n",
       "      <td>Romance</td>\n",
       "      <td>45</td>\n",
       "      <td>USA</td>\n",
       "      <td>None</td>\n",
       "      <td>Alexander Black</td>\n",
       "      <td>...</td>\n",
       "      <td>1</td>\n",
       "      <td>0</td>\n",
       "      <td>0</td>\n",
       "      <td>0</td>\n",
       "      <td>0</td>\n",
       "      <td>0</td>\n",
       "      <td>0</td>\n",
       "      <td>10</td>\n",
       "      <td>1129</td>\n",
       "      <td>True</td>\n",
       "    </tr>\n",
       "    <tr>\n",
       "      <th>1</th>\n",
       "      <td>tt0000574</td>\n",
       "      <td>The Story of the Kelly Gang</td>\n",
       "      <td>The Story of the Kelly Gang</td>\n",
       "      <td>1906</td>\n",
       "      <td>1906-12-26</td>\n",
       "      <td>Biography, Crime, Drama</td>\n",
       "      <td>70</td>\n",
       "      <td>Australia</td>\n",
       "      <td>None</td>\n",
       "      <td>Charles Tait</td>\n",
       "      <td>...</td>\n",
       "      <td>0</td>\n",
       "      <td>0</td>\n",
       "      <td>0</td>\n",
       "      <td>0</td>\n",
       "      <td>0</td>\n",
       "      <td>0</td>\n",
       "      <td>0</td>\n",
       "      <td>12</td>\n",
       "      <td>5115</td>\n",
       "      <td>False</td>\n",
       "    </tr>\n",
       "    <tr>\n",
       "      <th>2</th>\n",
       "      <td>tt0002101</td>\n",
       "      <td>Cleopatra</td>\n",
       "      <td>Cleopatra</td>\n",
       "      <td>1912</td>\n",
       "      <td>1912-11-13</td>\n",
       "      <td>Drama, History</td>\n",
       "      <td>100</td>\n",
       "      <td>USA</td>\n",
       "      <td>English</td>\n",
       "      <td>Charles L. Gaskill</td>\n",
       "      <td>...</td>\n",
       "      <td>0</td>\n",
       "      <td>0</td>\n",
       "      <td>0</td>\n",
       "      <td>0</td>\n",
       "      <td>0</td>\n",
       "      <td>0</td>\n",
       "      <td>0</td>\n",
       "      <td>11</td>\n",
       "      <td>5068</td>\n",
       "      <td>True</td>\n",
       "    </tr>\n",
       "    <tr>\n",
       "      <th>3</th>\n",
       "      <td>tt0002130</td>\n",
       "      <td>L'Inferno</td>\n",
       "      <td>L'Inferno</td>\n",
       "      <td>1911</td>\n",
       "      <td>1911-03-06</td>\n",
       "      <td>Adventure, Drama, Fantasy</td>\n",
       "      <td>68</td>\n",
       "      <td>Italy</td>\n",
       "      <td>Italian</td>\n",
       "      <td>Francesco Bertolini, Adolfo Padovan</td>\n",
       "      <td>...</td>\n",
       "      <td>0</td>\n",
       "      <td>0</td>\n",
       "      <td>0</td>\n",
       "      <td>0</td>\n",
       "      <td>0</td>\n",
       "      <td>0</td>\n",
       "      <td>0</td>\n",
       "      <td>3</td>\n",
       "      <td>9814</td>\n",
       "      <td>False</td>\n",
       "    </tr>\n",
       "    <tr>\n",
       "      <th>4</th>\n",
       "      <td>tt0002199</td>\n",
       "      <td>From the Manger to the Cross; or, Jesus of Naz...</td>\n",
       "      <td>From the Manger to the Cross; or, Jesus of Naz...</td>\n",
       "      <td>1912</td>\n",
       "      <td>1913-01-01</td>\n",
       "      <td>Biography, Drama</td>\n",
       "      <td>60</td>\n",
       "      <td>USA</td>\n",
       "      <td>English</td>\n",
       "      <td>Sidney Olcott</td>\n",
       "      <td>...</td>\n",
       "      <td>0</td>\n",
       "      <td>0</td>\n",
       "      <td>0</td>\n",
       "      <td>0</td>\n",
       "      <td>0</td>\n",
       "      <td>0</td>\n",
       "      <td>0</td>\n",
       "      <td>1</td>\n",
       "      <td>29464</td>\n",
       "      <td>True</td>\n",
       "    </tr>\n",
       "    <tr>\n",
       "      <th>...</th>\n",
       "      <td>...</td>\n",
       "      <td>...</td>\n",
       "      <td>...</td>\n",
       "      <td>...</td>\n",
       "      <td>...</td>\n",
       "      <td>...</td>\n",
       "      <td>...</td>\n",
       "      <td>...</td>\n",
       "      <td>...</td>\n",
       "      <td>...</td>\n",
       "      <td>...</td>\n",
       "      <td>...</td>\n",
       "      <td>...</td>\n",
       "      <td>...</td>\n",
       "      <td>...</td>\n",
       "      <td>...</td>\n",
       "      <td>...</td>\n",
       "      <td>...</td>\n",
       "      <td>...</td>\n",
       "      <td>...</td>\n",
       "      <td>...</td>\n",
       "    </tr>\n",
       "    <tr>\n",
       "      <th>85016</th>\n",
       "      <td>tt9908390</td>\n",
       "      <td>Le lion</td>\n",
       "      <td>Le lion</td>\n",
       "      <td>2020</td>\n",
       "      <td>2020-01-29</td>\n",
       "      <td>Comedy</td>\n",
       "      <td>95</td>\n",
       "      <td>France, Belgium</td>\n",
       "      <td>French</td>\n",
       "      <td>Ludovic Colbeau-Justin</td>\n",
       "      <td>...</td>\n",
       "      <td>0</td>\n",
       "      <td>0</td>\n",
       "      <td>0</td>\n",
       "      <td>0</td>\n",
       "      <td>0</td>\n",
       "      <td>0</td>\n",
       "      <td>0</td>\n",
       "      <td>1</td>\n",
       "      <td>19400</td>\n",
       "      <td>False</td>\n",
       "    </tr>\n",
       "    <tr>\n",
       "      <th>85017</th>\n",
       "      <td>tt9911196</td>\n",
       "      <td>De Beentjes van Sint-Hildegard</td>\n",
       "      <td>De Beentjes van Sint-Hildegard</td>\n",
       "      <td>2020</td>\n",
       "      <td>2020-02-13</td>\n",
       "      <td>Comedy, Drama</td>\n",
       "      <td>103</td>\n",
       "      <td>Netherlands</td>\n",
       "      <td>German, Dutch</td>\n",
       "      <td>Johan Nijenhuis</td>\n",
       "      <td>...</td>\n",
       "      <td>0</td>\n",
       "      <td>0</td>\n",
       "      <td>0</td>\n",
       "      <td>0</td>\n",
       "      <td>0</td>\n",
       "      <td>0</td>\n",
       "      <td>0</td>\n",
       "      <td>2</td>\n",
       "      <td>15372</td>\n",
       "      <td>False</td>\n",
       "    </tr>\n",
       "    <tr>\n",
       "      <th>85018</th>\n",
       "      <td>tt9911774</td>\n",
       "      <td>Padmavyuhathile Abhimanyu</td>\n",
       "      <td>Padmavyuhathile Abhimanyu</td>\n",
       "      <td>2019</td>\n",
       "      <td>2019-03-08</td>\n",
       "      <td>Drama</td>\n",
       "      <td>130</td>\n",
       "      <td>India</td>\n",
       "      <td>Malayalam</td>\n",
       "      <td>Vineesh Aaradya</td>\n",
       "      <td>...</td>\n",
       "      <td>0</td>\n",
       "      <td>0</td>\n",
       "      <td>0</td>\n",
       "      <td>0</td>\n",
       "      <td>0</td>\n",
       "      <td>0</td>\n",
       "      <td>0</td>\n",
       "      <td>3</td>\n",
       "      <td>32817</td>\n",
       "      <td>False</td>\n",
       "    </tr>\n",
       "    <tr>\n",
       "      <th>85019</th>\n",
       "      <td>tt9914286</td>\n",
       "      <td>Sokagin Çocuklari</td>\n",
       "      <td>Sokagin Çocuklari</td>\n",
       "      <td>2019</td>\n",
       "      <td>2019-03-15</td>\n",
       "      <td>Drama, Family</td>\n",
       "      <td>98</td>\n",
       "      <td>Turkey</td>\n",
       "      <td>Turkish</td>\n",
       "      <td>Ahmet Faik Akinci</td>\n",
       "      <td>...</td>\n",
       "      <td>0</td>\n",
       "      <td>0</td>\n",
       "      <td>0</td>\n",
       "      <td>0</td>\n",
       "      <td>0</td>\n",
       "      <td>0</td>\n",
       "      <td>0</td>\n",
       "      <td>3</td>\n",
       "      <td>493</td>\n",
       "      <td>False</td>\n",
       "    </tr>\n",
       "    <tr>\n",
       "      <th>85020</th>\n",
       "      <td>tt9914942</td>\n",
       "      <td>La vida sense la Sara Amat</td>\n",
       "      <td>La vida sense la Sara Amat</td>\n",
       "      <td>2019</td>\n",
       "      <td>2020-02-05</td>\n",
       "      <td>Drama</td>\n",
       "      <td>74</td>\n",
       "      <td>Spain</td>\n",
       "      <td>Catalan</td>\n",
       "      <td>Laura Jou</td>\n",
       "      <td>...</td>\n",
       "      <td>0</td>\n",
       "      <td>0</td>\n",
       "      <td>0</td>\n",
       "      <td>0</td>\n",
       "      <td>0</td>\n",
       "      <td>0</td>\n",
       "      <td>0</td>\n",
       "      <td>2</td>\n",
       "      <td>18587</td>\n",
       "      <td>False</td>\n",
       "    </tr>\n",
       "  </tbody>\n",
       "</table>\n",
       "<p>85021 rows × 318 columns</p>\n",
       "</div>"
      ],
      "text/plain": [
       "      imdb_title_id                                              title  \\\n",
       "0         tt0000009                                         Miss Jerry   \n",
       "1         tt0000574                        The Story of the Kelly Gang   \n",
       "2         tt0002101                                          Cleopatra   \n",
       "3         tt0002130                                          L'Inferno   \n",
       "4         tt0002199  From the Manger to the Cross; or, Jesus of Naz...   \n",
       "...             ...                                                ...   \n",
       "85016     tt9908390                                            Le lion   \n",
       "85017     tt9911196                     De Beentjes van Sint-Hildegard   \n",
       "85018     tt9911774                          Padmavyuhathile Abhimanyu   \n",
       "85019     tt9914286                                  Sokagin Çocuklari   \n",
       "85020     tt9914942                         La vida sense la Sara Amat   \n",
       "\n",
       "                                          original_title  year date_published  \\\n",
       "0                                             Miss Jerry  1894     1894-10-09   \n",
       "1                            The Story of the Kelly Gang  1906     1906-12-26   \n",
       "2                                              Cleopatra  1912     1912-11-13   \n",
       "3                                              L'Inferno  1911     1911-03-06   \n",
       "4      From the Manger to the Cross; or, Jesus of Naz...  1912     1913-01-01   \n",
       "...                                                  ...   ...            ...   \n",
       "85016                                            Le lion  2020     2020-01-29   \n",
       "85017                     De Beentjes van Sint-Hildegard  2020     2020-02-13   \n",
       "85018                          Padmavyuhathile Abhimanyu  2019     2019-03-08   \n",
       "85019                                  Sokagin Çocuklari  2019     2019-03-15   \n",
       "85020                         La vida sense la Sara Amat  2019     2020-02-05   \n",
       "\n",
       "                           genre  duration          country       language  \\\n",
       "0                        Romance        45              USA           None   \n",
       "1        Biography, Crime, Drama        70        Australia           None   \n",
       "2                 Drama, History       100              USA        English   \n",
       "3      Adventure, Drama, Fantasy        68            Italy        Italian   \n",
       "4               Biography, Drama        60              USA        English   \n",
       "...                          ...       ...              ...            ...   \n",
       "85016                     Comedy        95  France, Belgium         French   \n",
       "85017              Comedy, Drama       103      Netherlands  German, Dutch   \n",
       "85018                      Drama       130            India      Malayalam   \n",
       "85019              Drama, Family        98           Turkey        Turkish   \n",
       "85020                      Drama        74            Spain        Catalan   \n",
       "\n",
       "                                  director  ... g_Romance g_Sci-Fi g_Sport  \\\n",
       "0                          Alexander Black  ...         1        0       0   \n",
       "1                             Charles Tait  ...         0        0       0   \n",
       "2                       Charles L. Gaskill  ...         0        0       0   \n",
       "3      Francesco Bertolini, Adolfo Padovan  ...         0        0       0   \n",
       "4                            Sidney Olcott  ...         0        0       0   \n",
       "...                                    ...  ...       ...      ...     ...   \n",
       "85016               Ludovic Colbeau-Justin  ...         0        0       0   \n",
       "85017                      Johan Nijenhuis  ...         0        0       0   \n",
       "85018                      Vineesh Aaradya  ...         0        0       0   \n",
       "85019                    Ahmet Faik Akinci  ...         0        0       0   \n",
       "85020                            Laura Jou  ...         0        0       0   \n",
       "\n",
       "      g_Thriller  g_War  g_Western oscars_won month_published director_cat  \\\n",
       "0              0      0          0          0              10         1129   \n",
       "1              0      0          0          0              12         5115   \n",
       "2              0      0          0          0              11         5068   \n",
       "3              0      0          0          0               3         9814   \n",
       "4              0      0          0          0               1        29464   \n",
       "...          ...    ...        ...        ...             ...          ...   \n",
       "85016          0      0          0          0               1        19400   \n",
       "85017          0      0          0          0               2        15372   \n",
       "85018          0      0          0          0               3        32817   \n",
       "85019          0      0          0          0               3          493   \n",
       "85020          0      0          0          0               2        18587   \n",
       "\n",
       "       American  \n",
       "0          True  \n",
       "1         False  \n",
       "2          True  \n",
       "3         False  \n",
       "4          True  \n",
       "...         ...  \n",
       "85016     False  \n",
       "85017     False  \n",
       "85018     False  \n",
       "85019     False  \n",
       "85020     False  \n",
       "\n",
       "[85021 rows x 318 columns]"
      ]
     },
     "execution_count": 43,
     "metadata": {},
     "output_type": "execute_result"
    }
   ],
   "source": [
    "movies.reset_index(drop=True)"
   ]
  },
  {
   "cell_type": "markdown",
   "metadata": {},
   "source": [
    "I'll go ahead and create the train and the test subsets."
   ]
  },
  {
   "cell_type": "code",
   "execution_count": 44,
   "metadata": {},
   "outputs": [],
   "source": [
    "X_train, X_test, y_train, y_test = train_test_split(movies[factors], movies[\"oscars_won\"], train_size=0.7,test_size=0.3, random_state=0)"
   ]
  },
  {
   "cell_type": "markdown",
   "metadata": {},
   "source": [
    "I'm going to create the random forest regressor. Now, it may seem strange to use just 1 n estimator, but it provides similarily accurate results as using a higher number, and doesn't result in decimal points for the resulting predictions. That is, using a higher number would result in a given film receiving a prediction of 8.564554 or so Oscars which is impossible. By keeping it to just one, we avoid that and it does not become exceedingly more inaccurate."
   ]
  },
  {
   "cell_type": "code",
   "execution_count": 45,
   "metadata": {},
   "outputs": [],
   "source": [
    "regressor = RandomForestRegressor(n_estimators=1, random_state=0)"
   ]
  },
  {
   "cell_type": "markdown",
   "metadata": {},
   "source": [
    "Here I fit my dataset to the regressor, generate the y predictions, and then check the results using the root mean squared error. This turned out to be a low ~.02. So I can feel fairly confident that my predictions were correct."
   ]
  },
  {
   "cell_type": "code",
   "execution_count": 49,
   "metadata": {
    "scrolled": false
   },
   "outputs": [
    {
     "data": {
      "text/plain": [
       "RandomForestRegressor(bootstrap=True, ccp_alpha=0.0, criterion='mse',\n",
       "                      max_depth=None, max_features='auto', max_leaf_nodes=None,\n",
       "                      max_samples=None, min_impurity_decrease=0.0,\n",
       "                      min_impurity_split=None, min_samples_leaf=1,\n",
       "                      min_samples_split=2, min_weight_fraction_leaf=0.0,\n",
       "                      n_estimators=1, n_jobs=None, oob_score=False,\n",
       "                      random_state=0, verbose=0, warm_start=False)"
      ]
     },
     "execution_count": 49,
     "metadata": {},
     "output_type": "execute_result"
    }
   ],
   "source": [
    "regressor.fit(X_train, y_train)"
   ]
  },
  {
   "cell_type": "code",
   "execution_count": 39,
   "metadata": {},
   "outputs": [],
   "source": [
    "y_pred = regressor.predict(X_test)"
   ]
  },
  {
   "cell_type": "code",
   "execution_count": 40,
   "metadata": {},
   "outputs": [],
   "source": [
    "mse = mean_squared_error(y_test, y_pred)"
   ]
  },
  {
   "cell_type": "code",
   "execution_count": 41,
   "metadata": {},
   "outputs": [],
   "source": [
    "rmse = np.sqrt(mse)"
   ]
  },
  {
   "cell_type": "code",
   "execution_count": 42,
   "metadata": {},
   "outputs": [
    {
     "data": {
      "text/plain": [
       "0.02076665995106555"
      ]
     },
     "execution_count": 42,
     "metadata": {},
     "output_type": "execute_result"
    }
   ],
   "source": [
    "rmse"
   ]
  },
  {
   "cell_type": "code",
   "execution_count": null,
   "metadata": {},
   "outputs": [],
   "source": []
  },
  {
   "cell_type": "code",
   "execution_count": null,
   "metadata": {},
   "outputs": [],
   "source": []
  }
 ],
 "metadata": {
  "kernelspec": {
   "display_name": "Python 3",
   "language": "python",
   "name": "python3"
  },
  "language_info": {
   "codemirror_mode": {
    "name": "ipython",
    "version": 3
   },
   "file_extension": ".py",
   "mimetype": "text/x-python",
   "name": "python",
   "nbconvert_exporter": "python",
   "pygments_lexer": "ipython3",
   "version": "3.7.6"
  }
 },
 "nbformat": 4,
 "nbformat_minor": 4
}
